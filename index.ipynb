{
 "cells": [
  {
   "cell_type": "code",
   "execution_count": null,
   "metadata": {},
   "outputs": [],
   "source": [
    "const express = require('express');\n",
    "const app = express();\n",
    "const port = 3000;\n",
    "\n",
    "app.get('/', (req, res) => {\n",
    "  res.send('Hello World!');\n",
    "});\n",
    "\n",
    "app.listen(port, () => {\n",
    "  console.log(`Example app listening at http://localhost:${port}`);\n",
    "});"
   ]
  }
 ],
 "metadata": {
  "language_info": {
   "name": "python"
  }
 },
 "nbformat": 4,
 "nbformat_minor": 2
}
